{
 "cells": [
  {
   "cell_type": "code",
   "execution_count": 2,
   "id": "e435996d",
   "metadata": {},
   "outputs": [],
   "source": [
    "import pandas as pd"
   ]
  },
  {
   "cell_type": "markdown",
   "id": "897fa965",
   "metadata": {},
   "source": [
    "## Data Structures in Pandas"
   ]
  },
  {
   "cell_type": "markdown",
   "id": "71ffdfc6",
   "metadata": {},
   "source": [
    "### Series:"
   ]
  },
  {
   "cell_type": "code",
   "execution_count": 9,
   "id": "14c89361",
   "metadata": {},
   "outputs": [
    {
     "name": "stdout",
     "output_type": "stream",
     "text": [
      "0    3\n",
      "1    4\n",
      "2    5\n",
      "3    6\n",
      "dtype: int64\n",
      "a    3.0\n",
      "b    4.0\n",
      "c    5.0\n",
      "d    6.0\n",
      "Name: Practice Series, dtype: float64\n",
      "Acess through default index: 5.0 \n",
      "Access through given index: 5.0\n"
     ]
    }
   ],
   "source": [
    "x = [3,4,5,6]\n",
    "ser = pd.Series(x)\n",
    "ser1 = pd.Series(x, index=['a','b','c','d'], dtype=float, name=\"Practice Series\")\n",
    "print(ser)\n",
    "print(ser1)\n",
    "print(\"Acess through default index:\",ser1[2],\"\\nAccess through given index:\", ser1['c'])"
   ]
  },
  {
   "cell_type": "code",
   "execution_count": 16,
   "id": "9a5883f9",
   "metadata": {},
   "outputs": [
    {
     "name": "stdout",
     "output_type": "stream",
     "text": [
      "name    [Python, CPP, Java, php]\n",
      "pos             [15, 22, 66, 39]\n",
      "rank                [1, 3, 2, 4]\n",
      "dtype: object\n",
      "[1, 3, 2, 4] 2\n"
     ]
    }
   ],
   "source": [
    "dict = {\"name\":[\"Python\",\"CPP\",\"Java\",\"php\"], \"pos\":[15,22,66,39],\"rank\":[1,3,2,4]}\n",
    "ser2 = pd.Series(dict)\n",
    "print(ser2)\n",
    "ranks = ser2[\"rank\"]\n",
    "print(ranks, ranks[2])"
   ]
  },
  {
   "cell_type": "code",
   "execution_count": 19,
   "id": "102d44a3",
   "metadata": {},
   "outputs": [
    {
     "name": "stdout",
     "output_type": "stream",
     "text": [
      "0     3.0\n",
      "1     7.0\n",
      "2    11.0\n",
      "3    15.0\n",
      "4     NaN\n",
      "dtype: float64\n"
     ]
    }
   ],
   "source": [
    "print(pd.Series([1,3,5,7,9], dtype=int) + pd.Series([2,4,6,8], dtype=int))"
   ]
  },
  {
   "cell_type": "code",
   "execution_count": null,
   "id": "695411b4",
   "metadata": {},
   "outputs": [],
   "source": []
  }
 ],
 "metadata": {
  "kernelspec": {
   "display_name": "Python 3 (ipykernel)",
   "language": "python",
   "name": "python3"
  },
  "language_info": {
   "codemirror_mode": {
    "name": "ipython",
    "version": 3
   },
   "file_extension": ".py",
   "mimetype": "text/x-python",
   "name": "python",
   "nbconvert_exporter": "python",
   "pygments_lexer": "ipython3",
   "version": "3.7.0"
  }
 },
 "nbformat": 4,
 "nbformat_minor": 5
}
